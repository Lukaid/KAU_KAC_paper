{
 "cells": [
  {
   "cell_type": "code",
   "execution_count": 1,
   "source": [
    "import re\r\n",
    "import pandas as pd\r\n",
    "from bs4 import BeautifulSoup\r\n",
    "import requests"
   ],
   "outputs": [],
   "metadata": {}
  },
  {
   "cell_type": "code",
   "execution_count": 2,
   "source": [
    "# 기간 하드 코딩\r\n",
    "\r\n",
    "day_list_1912_2010 = [\r\n",
    "    \"2019.12.01\",\r\n",
    "\"2019.12.10\",\r\n",
    "\"2019.12.11\",\r\n",
    "\"2019.12.20\",\r\n",
    "\"2019.12.21\",\r\n",
    "\"2019.12.31\",\r\n",
    "\"2020.01.01\",\r\n",
    "\"2020.01.10\",\r\n",
    "\"2020.01.11\",\r\n",
    "\"2020.01.20\",\r\n",
    "\"2020.01.21\",\r\n",
    "\"2020.01.31\",\r\n",
    "\"2020.02.01\",\r\n",
    "\"2020.02.10\",\r\n",
    "\"2020.02.11\",\r\n",
    "\"2020.02.20\",\r\n",
    "\"2020.02.21\",\r\n",
    "\"2020.02.29\",\r\n",
    "\"2020.03.01\",\r\n",
    "\"2020.03.10\",\r\n",
    "\"2020.03.11\",\r\n",
    "\"2020.03.20\",\r\n",
    "\"2020.03.21\",\r\n",
    "\"2020.03.31\",\r\n",
    "\"2020.04.01\",\r\n",
    "\"2020.04.10\",\r\n",
    "\"2020.04.11\",\r\n",
    "\"2020.04.20\",\r\n",
    "\"2020.04.21\",\r\n",
    "\"2020.04.30\",\r\n",
    "\"2020.05.01\",\r\n",
    "\"2020.05.10\",\r\n",
    "\"2020.05.11\",\r\n",
    "\"2020.05.20\",\r\n",
    "\"2020.05.21\",\r\n",
    "\"2020.05.31\",\r\n",
    "\"2020.06.01\",\r\n",
    "\"2020.06.10\",\r\n",
    "\"2020.06.11\",\r\n",
    "\"2020.06.20\",\r\n",
    "\"2020.06.21\",\r\n",
    "\"2020.06.30\",\r\n",
    "\"2020.07.01\",\r\n",
    "\"2020.07.10\",\r\n",
    "\"2020.07.11\",\r\n",
    "\"2020.07.20\",\r\n",
    "\"2020.07.21\",\r\n",
    "\"2020.07.31\",\r\n",
    "\"2020.08.01\",\r\n",
    "\"2020.08.10\",\r\n",
    "\"2020.08.11\",\r\n",
    "\"2020.08.20\",\r\n",
    "\"2020.08.21\",\r\n",
    "\"2020.08.31\",\r\n",
    "\"2020.09.01\",\r\n",
    "\"2020.09.10\",\r\n",
    "\"2020.09.11\",\r\n",
    "\"2020.09.20\",\r\n",
    "\"2020.09.21\",\r\n",
    "\"2020.09.30\",\r\n",
    "\"2020.10.01\",\r\n",
    "\"2020.10.10\",\r\n",
    "\"2020.10.11\",\r\n",
    "\"2020.10.20\",\r\n",
    "\"2020.10.21\",\r\n",
    "\"2020.10.31\"\r\n",
    "]"
   ],
   "outputs": [],
   "metadata": {}
  },
  {
   "cell_type": "code",
   "execution_count": 8,
   "source": [
    "\r\n",
    "covid_news_list = []\r\n",
    "\r\n",
    "try: # 만약 페이지를 넘어가면 오류를 뱉음\r\n",
    "    news_url = f'https://search.naver.com/search.naver?where=news&sm=tab_pge&query=%EC%BD%94%EB%A1%9C%EB%82%98%2C%20%ED%95%AD%EA%B3%B5&sort=1&photo=0&field=0&pd=3&ds=2020.10.21&de=2020.10.31&start=1'\r\n",
    "    req = requests.get(news_url)\r\n",
    "    soup = BeautifulSoup(req.text, 'html.parser')\r\n",
    "\r\n",
    "    table = soup.find('ul',{'class' : 'list_news'})\r\n",
    "    li_list = table.find_all('li', {'id': re.compile('sp_nws.*')})\r\n",
    "    area_list = [li.find('div', {'class' : 'news_area'}) for li in li_list]\r\n",
    "    info_list = [info.find('div', {'class' : 'news_info'}) for info in area_list]\r\n",
    "    naver_news = [naver.find('a', {'href': re.compile('https://news.naver.com.*')}) for naver in info_list]\r\n",
    "\r\n",
    "    for news in naver_news:\r\n",
    "        if news != None:\r\n",
    "            covid_news_list.append(news)\r\n",
    "        else:\r\n",
    "            pass\r\n",
    "except: # 오류가 나면 안긴 반복문 종료\r\n",
    "    print(f'{start} bad')"
   ],
   "outputs": [],
   "metadata": {}
  },
  {
   "cell_type": "code",
   "execution_count": 9,
   "source": [
    "covid_news_list"
   ],
   "outputs": [
    {
     "output_type": "execute_result",
     "data": {
      "text/plain": [
       "[<a class=\"info\" href=\"https://news.naver.com/main/read.naver?mode=LSD&amp;mid=sec&amp;sid1=100&amp;oid=052&amp;aid=0001508770\" onclick=\"return goOtherCR(this, 'a=nws*e.nav&amp;r=6&amp;i=880000AF_000000000000000001508770&amp;u='+urlencode(this.href));\" target=\"_blank\">네이버뉴스</a>,\n",
       " <a class=\"info\" href=\"https://news.naver.com/main/read.naver?mode=LSD&amp;mid=sec&amp;sid1=101&amp;oid=437&amp;aid=0000251116\" onclick=\"return goOtherCR(this, 'a=nws*j.nav&amp;r=9&amp;i=08138260_000000000000000000251116&amp;u='+urlencode(this.href));\" target=\"_blank\">네이버뉴스</a>,\n",
       " <a class=\"info\" href=\"https://news.naver.com/main/read.naver?mode=LSD&amp;mid=sec&amp;sid1=101&amp;oid=018&amp;aid=0004774337\" onclick=\"return goOtherCR(this, 'a=nws*e.nav&amp;r=10&amp;i=880000E7_000000000000000004774337&amp;u='+urlencode(this.href));\" target=\"_blank\">네이버뉴스</a>]"
      ]
     },
     "metadata": {},
     "execution_count": 9
    }
   ],
   "metadata": {}
  },
  {
   "cell_type": "code",
   "execution_count": 6,
   "source": [
    "covid_news_list_url = []\r\n",
    "\r\n",
    "for i in covid_news_list:\r\n",
    "    covid_news_list_url.append(i.get('href'))\r\n",
    "\r\n",
    "covid_news_list_url"
   ],
   "outputs": [
    {
     "output_type": "execute_result",
     "data": {
      "text/plain": [
       "['https://news.naver.com/main/read.naver?mode=LSD&mid=sec&sid1=100&oid=052&aid=0001508770',\n",
       " 'https://news.naver.com/main/read.naver?mode=LSD&mid=sec&sid1=101&oid=437&aid=0000251116',\n",
       " 'https://news.naver.com/main/read.naver?mode=LSD&mid=sec&sid1=101&oid=018&aid=0004774337']"
      ]
     },
     "metadata": {},
     "execution_count": 6
    }
   ],
   "metadata": {}
  },
  {
   "cell_type": "code",
   "execution_count": null,
   "source": [
    "day_start = [\"2019.12.01\",\r\n",
    "\"2019.12.08\",\r\n",
    "\"2019.12.15\",\r\n",
    "\"2019.12.22\",\r\n",
    "\"2019.12.29\",\r\n",
    "\"2020.01.05\",\r\n",
    "\"2020.01.12\",\r\n",
    "\"2020.01.19\",\r\n",
    "\"2020.01.26\",\r\n",
    "\"2020.02.02\",\r\n",
    "\"2020.02.09\",\r\n",
    "\"2020.02.16\",\r\n",
    "\"2020.02.23\",\r\n",
    "\"2020.03.01\",\r\n",
    "\"2020.03.08\",\r\n",
    "\"2020.03.15\",\r\n",
    "\"2020.03.22\",\r\n",
    "\"2020.03.29\",\r\n",
    "\"2020.04.05\",\r\n",
    "\"2020.04.12\",\r\n",
    "\"2020.04.19\",\r\n",
    "\"2020.04.26\",\r\n",
    "\"2020.05.03\",\r\n",
    "\"2020.05.10\",\r\n",
    "\"2020.05.17\",\r\n",
    "\"2020.05.24\",\r\n",
    "\"2020.05.31\",\r\n",
    "\"2020.06.07\",\r\n",
    "\"2020.06.14\",\r\n",
    "\"2020.06.21\",\r\n",
    "\"2020.06.28\",\r\n",
    "\"2020.07.05\",\r\n",
    "\"2020.07.12\",\r\n",
    "\"2020.07.19\",\r\n",
    "\"2020.07.26\",\r\n",
    "\"2020.08.02\",\r\n",
    "\"2020.08.09\",\r\n",
    "\"2020.08.16\",\r\n",
    "\"2020.08.23\",\r\n",
    "\"2020.08.30\",\r\n",
    "\"2020.09.06\",\r\n",
    "\"2020.09.13\",\r\n",
    "\"2020.09.20\",\r\n",
    "\"2020.09.27\",\r\n",
    "\"2020.10.04\",\r\n",
    "\"2020.10.11\",\r\n",
    "\"2020.10.18\",\r\n",
    "\"2020.10.25\"]"
   ],
   "outputs": [],
   "metadata": {}
  },
  {
   "cell_type": "code",
   "execution_count": 7,
   "source": [
    "day_end = [\"2019.12.07\",\r\n",
    "\"2019.12.14\",\r\n",
    "\"2019.12.21\",\r\n",
    "\"2019.12.28\",\r\n",
    "\"2020.01.04\",\r\n",
    "\"2020.01.11\",\r\n",
    "\"2020.01.18\",\r\n",
    "\"2020.01.25\",\r\n",
    "\"2020.02.01\",\r\n",
    "\"2020.02.08\",\r\n",
    "\"2020.02.15\",\r\n",
    "\"2020.02.22\",\r\n",
    "\"2020.02.29\",\r\n",
    "\"2020.03.07\",\r\n",
    "\"2020.03.14\",\r\n",
    "\"2020.03.21\",\r\n",
    "\"2020.03.28\",\r\n",
    "\"2020.04.04\",\r\n",
    "\"2020.04.11\",\r\n",
    "\"2020.04.18\",\r\n",
    "\"2020.04.25\",\r\n",
    "\"2020.05.02\",\r\n",
    "\"2020.05.09\",\r\n",
    "\"2020.05.16\",\r\n",
    "\"2020.05.23\",\r\n",
    "\"2020.05.30\",\r\n",
    "\"2020.06.06\",\r\n",
    "\"2020.06.13\",\r\n",
    "\"2020.06.20\",\r\n",
    "\"2020.06.27\",\r\n",
    "\"2020.07.04\",\r\n",
    "\"2020.07.11\",\r\n",
    "\"2020.07.18\",\r\n",
    "\"2020.07.25\",\r\n",
    "\"2020.08.01\",\r\n",
    "\"2020.08.08\",\r\n",
    "\"2020.08.15\",\r\n",
    "\"2020.08.22\",\r\n",
    "\"2020.08.29\",\r\n",
    "\"2020.09.05\",\r\n",
    "\"2020.09.12\",\r\n",
    "\"2020.09.19\",\r\n",
    "\"2020.09.26\",\r\n",
    "\"2020.10.03\",\r\n",
    "\"2020.10.10\",\r\n",
    "\"2020.10.17\",\r\n",
    "\"2020.10.24\",\r\n",
    "\"2020.10.31\"]\r\n",
    "\r\n",
    "len(day_end)"
   ],
   "outputs": [
    {
     "output_type": "execute_result",
     "data": {
      "text/plain": [
       "48"
      ]
     },
     "metadata": {},
     "execution_count": 7
    }
   ],
   "metadata": {}
  }
 ],
 "metadata": {
  "orig_nbformat": 4,
  "language_info": {
   "name": "python",
   "version": "3.9.4",
   "mimetype": "text/x-python",
   "codemirror_mode": {
    "name": "ipython",
    "version": 3
   },
   "pygments_lexer": "ipython3",
   "nbconvert_exporter": "python",
   "file_extension": ".py"
  },
  "kernelspec": {
   "name": "python3",
   "display_name": "Python 3.9.4 64-bit"
  },
  "interpreter": {
   "hash": "63fd5069d213b44bf678585dea6b12cceca9941eaf7f819626cde1f2670de90d"
  }
 },
 "nbformat": 4,
 "nbformat_minor": 2
}